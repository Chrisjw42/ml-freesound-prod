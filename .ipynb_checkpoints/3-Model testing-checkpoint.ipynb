{
 "cells": [
  {
   "cell_type": "markdown",
   "metadata": {},
   "source": [
    "# Evaluating model performance"
   ]
  },
  {
   "cell_type": "code",
   "execution_count": null,
   "metadata": {},
   "outputs": [],
   "source": [
    "# Changing keras backend\n",
    "import theano"
   ]
  },
  {
   "cell_type": "code",
   "execution_count": 68,
   "metadata": {
    "scrolled": false
   },
   "outputs": [],
   "source": [
    "import pandas as pd\n",
    "import librosa\n",
    "import matplotlib.pyplot as plt\n",
    "import os\n",
    "import numpy as np\n",
    "import pickle\n",
    "import IPython\n",
    "from scipy.stats import mode\n",
    "\n",
    "import os\n",
    "import dask.dataframe as dd\n",
    "from sklearn.model_selection import train_test_split\n",
    "import pandas as pd\n",
    "import keras\n",
    "from keras.models import Sequential\n",
    "from keras.layers import Convolution2D, MaxPooling2D, Dropout, Flatten, Activation, Conv2D, Dense\n",
    "from keras import metrics\n",
    "from sklearn.model_selection import train_test_split\n",
    "\n",
    "import gc\n"
   ]
  },
  {
   "cell_type": "code",
   "execution_count": 20,
   "metadata": {},
   "outputs": [],
   "source": [
    "def load_data(folder, subset=False, test=False):\n",
    "    \"\"\"\n",
    "    Files are loaded into a large numpy object and held in memory. \n",
    "    This function also feature scales the data, with the scaledrs being saved\n",
    "    to allow equivalent transformation of the test set\n",
    "    \"\"\"\n",
    "    files = os.listdir(folder)\n",
    "\n",
    "    n = len(files) # limiter, set to smaller number for non full set\n",
    "    if subset:\n",
    "        n = 10\n",
    "    \n",
    "    train_df_mfcc = pd.DataFrame()\n",
    "    train_df_mfcc[\"index\"] = files\n",
    "    train_df_mfcc.set_index(\"index\")\n",
    "\n",
    "    #Create an empty structure to fit the data inside\n",
    "    X = np.empty((n, 20, 87, 1))\n",
    "\n",
    "    for i in range(len(files[:n])):\n",
    "        file = files[i]\n",
    "        this_mfcc = pd.read_parquet(\"{}/{}\".format(folder, file)).values\n",
    "        X[i] = np.expand_dims(this_mfcc, axis=-1)\n",
    "\n",
    "    # establish stats (to normalise train and test within same range)\n",
    "    if not test:\n",
    "        stats = {}\n",
    "        stats[\"train_mean\"] = np.mean(X)\n",
    "        stats[\"train_std\"] = np.std(X)\n",
    "        \n",
    "        # save stats\n",
    "        with open(\"train_stats.json\", \"w\") as fp:\n",
    "            json.dump(stats, fp)\n",
    "        \n",
    "    else:\n",
    "        with open(\"train_stats.json\") as fp:\n",
    "            stats = json.load(fp)\n",
    "    \n",
    "\n",
    "    # Feature scale the samples\n",
    "    X = X - stats[\"train_mean\"]\n",
    "    X = X / stats[\"train_std\"]\n",
    "    return X"
   ]
  },
  {
   "cell_type": "code",
   "execution_count": 22,
   "metadata": {},
   "outputs": [],
   "source": [
    "X_test = load_data(\"../data/freesound-ml/audio_test_new_mfcc\")"
   ]
  },
  {
   "cell_type": "code",
   "execution_count": 27,
   "metadata": {},
   "outputs": [],
   "source": [
    "def get_base_name(s):\n",
    "    return int(s.split(\"_\")[0])"
   ]
  },
  {
   "cell_type": "code",
   "execution_count": 89,
   "metadata": {},
   "outputs": [],
   "source": [
    "import scipy"
   ]
  },
  {
   "cell_type": "code",
   "execution_count": 148,
   "metadata": {},
   "outputs": [],
   "source": [
    "def get_accuracy(model_suffix, X_test):\n",
    "    model = keras.models.load_model(\"../data/freesound-ml/nn_{}.model\".format(model_suffix))\n",
    "    preds = pd.Series(model.predict_classes(X_test))\n",
    "    \n",
    "    # Get ground truth\n",
    "    new_files = os.listdir(\"../data/freesound-ml/audio_test_new_mfcc/\")\n",
    "    y_test = pd.DataFrame()\n",
    "    y_test[\"fn\"] = new_files\n",
    "    y_test[\"parent_index\"] = y_test[\"fn\"].apply(get_base_name)\n",
    "    \n",
    "    # Get the labels by joining on the parent's index\n",
    "    y_test = y_test.join(df_test, on=\"parent_index\", rsuffix=\"parent\")\n",
    "    ground_truth = y_test[y_test.columns[7:]].idxmax(axis=1)\n",
    "    y_test[\"pred\"] = preds\n",
    "    #print(np.mean((preds == ground_truth).astype(int)))\n",
    "    \n",
    "    \n",
    "    # Aggregate by parent index (the original, and take the MOST COMMON prediction \n",
    "    # from each of the 2-second chunks)\n",
    "    results_agg = y_test.groupby('parent_index').agg(lambda x: scipy.stats.mode(x)[0])\n",
    "    \n",
    "    # bool series is true when they are equal, convert to int (0 or 1), take mean for accuracy metric\n",
    "    return np.mean((results_agg[\"class\"] == results_agg[\"pred\"]).astype(int))"
   ]
  },
  {
   "cell_type": "code",
   "execution_count": 72,
   "metadata": {},
   "outputs": [
    {
     "data": {
      "text/plain": [
       "0.4787283777466106"
      ]
     },
     "execution_count": 72,
     "metadata": {},
     "output_type": "execute_result"
    }
   ],
   "source": [
    "get_accuracy(\"2d_4\", X_test)"
   ]
  },
  {
   "cell_type": "code",
   "execution_count": 73,
   "metadata": {},
   "outputs": [
    {
     "data": {
      "text/plain": [
       "0.4198223468910706"
      ]
     },
     "execution_count": 73,
     "metadata": {},
     "output_type": "execute_result"
    }
   ],
   "source": [
    "get_accuracy(\"2d_5\", X_test)"
   ]
  },
  {
   "cell_type": "code",
   "execution_count": 84,
   "metadata": {},
   "outputs": [
    {
     "name": "stdout",
     "output_type": "stream",
     "text": [
      "0.42987377279102384\n"
     ]
    }
   ],
   "source": [
    "results = get_accuracy(\"2d_5\", X_test)\n"
   ]
  },
  {
   "cell_type": "markdown",
   "metadata": {},
   "source": [
    "### The following \"aggregation step\" has now been implemented in the get_accuracy function"
   ]
  },
  {
   "cell_type": "code",
   "execution_count": 92,
   "metadata": {
    "scrolled": false
   },
   "outputs": [
    {
     "name": "stderr",
     "output_type": "stream",
     "text": [
      "C:\\Users\\chris\\Anaconda3\\envs\\audio\\lib\\site-packages\\scipy\\stats\\stats.py:245: RuntimeWarning: The input array could not be properly checked for nan values. nan values will be ignored.\n",
      "  \"values. nan values will be ignored.\", RuntimeWarning)\n"
     ]
    }
   ],
   "source": [
    "results_agg = results.groupby('parent_index').agg(lambda x: scipy.stats.mode(x)[0])"
   ]
  },
  {
   "cell_type": "code",
   "execution_count": 93,
   "metadata": {},
   "outputs": [
    {
     "data": {
      "text/html": [
       "<div>\n",
       "<style scoped>\n",
       "    .dataframe tbody tr th:only-of-type {\n",
       "        vertical-align: middle;\n",
       "    }\n",
       "\n",
       "    .dataframe tbody tr th {\n",
       "        vertical-align: top;\n",
       "    }\n",
       "\n",
       "    .dataframe thead th {\n",
       "        text-align: right;\n",
       "    }\n",
       "</style>\n",
       "<table border=\"1\" class=\"dataframe\">\n",
       "  <thead>\n",
       "    <tr style=\"text-align: right;\">\n",
       "      <th></th>\n",
       "      <th>fn</th>\n",
       "      <th>fname</th>\n",
       "      <th>label</th>\n",
       "      <th>class</th>\n",
       "      <th>filepath</th>\n",
       "      <th>0</th>\n",
       "      <th>1</th>\n",
       "      <th>2</th>\n",
       "      <th>3</th>\n",
       "      <th>4</th>\n",
       "      <th>...</th>\n",
       "      <th>33</th>\n",
       "      <th>34</th>\n",
       "      <th>35</th>\n",
       "      <th>36</th>\n",
       "      <th>37</th>\n",
       "      <th>38</th>\n",
       "      <th>39</th>\n",
       "      <th>40</th>\n",
       "      <th>None</th>\n",
       "      <th>pred</th>\n",
       "    </tr>\n",
       "    <tr>\n",
       "      <th>parent_index</th>\n",
       "      <th></th>\n",
       "      <th></th>\n",
       "      <th></th>\n",
       "      <th></th>\n",
       "      <th></th>\n",
       "      <th></th>\n",
       "      <th></th>\n",
       "      <th></th>\n",
       "      <th></th>\n",
       "      <th></th>\n",
       "      <th></th>\n",
       "      <th></th>\n",
       "      <th></th>\n",
       "      <th></th>\n",
       "      <th></th>\n",
       "      <th></th>\n",
       "      <th></th>\n",
       "      <th></th>\n",
       "      <th></th>\n",
       "      <th></th>\n",
       "      <th></th>\n",
       "    </tr>\n",
       "  </thead>\n",
       "  <tbody>\n",
       "    <tr>\n",
       "      <th>4</th>\n",
       "      <td>4_0.parquet</td>\n",
       "      <td>00326aa9.wav</td>\n",
       "      <td>Oboe</td>\n",
       "      <td>29</td>\n",
       "      <td>../data/freesound-ml/audio_test/00326aa9.wav</td>\n",
       "      <td>0</td>\n",
       "      <td>0</td>\n",
       "      <td>0</td>\n",
       "      <td>0</td>\n",
       "      <td>0</td>\n",
       "      <td>...</td>\n",
       "      <td>0</td>\n",
       "      <td>0</td>\n",
       "      <td>0</td>\n",
       "      <td>0</td>\n",
       "      <td>0</td>\n",
       "      <td>0</td>\n",
       "      <td>0</td>\n",
       "      <td>0</td>\n",
       "      <td>0</td>\n",
       "      <td>8</td>\n",
       "    </tr>\n",
       "    <tr>\n",
       "      <th>5</th>\n",
       "      <td>5_0.parquet</td>\n",
       "      <td>0038a046.wav</td>\n",
       "      <td>Bass_drum</td>\n",
       "      <td>3</td>\n",
       "      <td>../data/freesound-ml/audio_test/0038a046.wav</td>\n",
       "      <td>0</td>\n",
       "      <td>0</td>\n",
       "      <td>0</td>\n",
       "      <td>1</td>\n",
       "      <td>0</td>\n",
       "      <td>...</td>\n",
       "      <td>0</td>\n",
       "      <td>0</td>\n",
       "      <td>0</td>\n",
       "      <td>0</td>\n",
       "      <td>0</td>\n",
       "      <td>0</td>\n",
       "      <td>0</td>\n",
       "      <td>0</td>\n",
       "      <td>0</td>\n",
       "      <td>0</td>\n",
       "    </tr>\n",
       "    <tr>\n",
       "      <th>8</th>\n",
       "      <td>8_0.parquet</td>\n",
       "      <td>007759c4.wav</td>\n",
       "      <td>Saxophone</td>\n",
       "      <td>30</td>\n",
       "      <td>../data/freesound-ml/audio_test/007759c4.wav</td>\n",
       "      <td>0</td>\n",
       "      <td>0</td>\n",
       "      <td>0</td>\n",
       "      <td>0</td>\n",
       "      <td>0</td>\n",
       "      <td>...</td>\n",
       "      <td>0</td>\n",
       "      <td>0</td>\n",
       "      <td>0</td>\n",
       "      <td>0</td>\n",
       "      <td>0</td>\n",
       "      <td>0</td>\n",
       "      <td>0</td>\n",
       "      <td>0</td>\n",
       "      <td>0</td>\n",
       "      <td>18</td>\n",
       "    </tr>\n",
       "    <tr>\n",
       "      <th>9</th>\n",
       "      <td>9_0.parquet</td>\n",
       "      <td>008afd93.wav</td>\n",
       "      <td>Saxophone</td>\n",
       "      <td>30</td>\n",
       "      <td>../data/freesound-ml/audio_test/008afd93.wav</td>\n",
       "      <td>0</td>\n",
       "      <td>0</td>\n",
       "      <td>0</td>\n",
       "      <td>0</td>\n",
       "      <td>0</td>\n",
       "      <td>...</td>\n",
       "      <td>0</td>\n",
       "      <td>0</td>\n",
       "      <td>0</td>\n",
       "      <td>0</td>\n",
       "      <td>0</td>\n",
       "      <td>0</td>\n",
       "      <td>0</td>\n",
       "      <td>0</td>\n",
       "      <td>0</td>\n",
       "      <td>30</td>\n",
       "    </tr>\n",
       "    <tr>\n",
       "      <th>12</th>\n",
       "      <td>12_0.parquet</td>\n",
       "      <td>00ae03f6.wav</td>\n",
       "      <td>Chime</td>\n",
       "      <td>7</td>\n",
       "      <td>../data/freesound-ml/audio_test/00ae03f6.wav</td>\n",
       "      <td>0</td>\n",
       "      <td>0</td>\n",
       "      <td>0</td>\n",
       "      <td>0</td>\n",
       "      <td>0</td>\n",
       "      <td>...</td>\n",
       "      <td>0</td>\n",
       "      <td>0</td>\n",
       "      <td>0</td>\n",
       "      <td>0</td>\n",
       "      <td>0</td>\n",
       "      <td>0</td>\n",
       "      <td>0</td>\n",
       "      <td>0</td>\n",
       "      <td>0</td>\n",
       "      <td>7</td>\n",
       "    </tr>\n",
       "  </tbody>\n",
       "</table>\n",
       "<p>5 rows × 48 columns</p>\n",
       "</div>"
      ],
      "text/plain": [
       "                        fn         fname      label  class  \\\n",
       "parent_index                                                 \n",
       "4              4_0.parquet  00326aa9.wav       Oboe     29   \n",
       "5              5_0.parquet  0038a046.wav  Bass_drum      3   \n",
       "8              8_0.parquet  007759c4.wav  Saxophone     30   \n",
       "9              9_0.parquet  008afd93.wav  Saxophone     30   \n",
       "12            12_0.parquet  00ae03f6.wav      Chime      7   \n",
       "\n",
       "                                                  filepath  0  1  2  3  4  \\\n",
       "parent_index                                                                \n",
       "4             ../data/freesound-ml/audio_test/00326aa9.wav  0  0  0  0  0   \n",
       "5             ../data/freesound-ml/audio_test/0038a046.wav  0  0  0  1  0   \n",
       "8             ../data/freesound-ml/audio_test/007759c4.wav  0  0  0  0  0   \n",
       "9             ../data/freesound-ml/audio_test/008afd93.wav  0  0  0  0  0   \n",
       "12            ../data/freesound-ml/audio_test/00ae03f6.wav  0  0  0  0  0   \n",
       "\n",
       "              ...   33  34  35  36  37  38  39  40  None  pred  \n",
       "parent_index  ...                                               \n",
       "4             ...    0   0   0   0   0   0   0   0     0     8  \n",
       "5             ...    0   0   0   0   0   0   0   0     0     0  \n",
       "8             ...    0   0   0   0   0   0   0   0     0    18  \n",
       "9             ...    0   0   0   0   0   0   0   0     0    30  \n",
       "12            ...    0   0   0   0   0   0   0   0     0     7  \n",
       "\n",
       "[5 rows x 48 columns]"
      ]
     },
     "execution_count": 93,
     "metadata": {},
     "output_type": "execute_result"
    }
   ],
   "source": [
    "results_agg.head()"
   ]
  },
  {
   "cell_type": "code",
   "execution_count": 95,
   "metadata": {},
   "outputs": [
    {
     "data": {
      "text/plain": [
       "0.5057736720554272"
      ]
     },
     "execution_count": 95,
     "metadata": {},
     "output_type": "execute_result"
    }
   ],
   "source": [
    "np.mean((results_agg[\"class\"] == results_agg[\"pred\"]).astype(int))"
   ]
  },
  {
   "cell_type": "markdown",
   "metadata": {},
   "source": [
    "# The following grid search was performed on a GPU VM in Google Cloud:\n"
   ]
  },
  {
   "cell_type": "code",
   "execution_count": null,
   "metadata": {},
   "outputs": [],
   "source": [
    "for n_filters in [64, 32, 128]:intentionalsyntaxerror\n",
    "    for dropout_rate in [0.3, 0.5]:    \n",
    "        for n_layers in [2,3,4]:\n",
    "            try:\n",
    "                print(\"2d_{}_{}_{}\".format(n_filters, dropout_rate, n_layers))\n",
    "                res = train_model(n_filters=n_filters, kernel_size=(2,9), dropout_rate=dropout_rate, n_conv_layers=n_layers,\n",
    "                           suffix=\"2d_{}_{}_{}\".format(n_filters, dropout_rate, n_layers))\n",
    "\n",
    "                # Save history object as csv\n",
    "                h = pd.DataFrame([res.history[key] for key in res.history.keys()]).T\n",
    "                h.columns = res.history.keys()\n",
    "                h.to_csv(\"2d_{}_{}_{}.csv\".format(n_filters, dropout_rate, n_layers), index=None)\n",
    "            except:\n",
    "                pass"
   ]
  },
  {
   "cell_type": "code",
   "execution_count": 100,
   "metadata": {},
   "outputs": [],
   "source": [
    "results_fns= [x for x in os.listdir() if \"2d_\" in x]"
   ]
  },
  {
   "cell_type": "code",
   "execution_count": 103,
   "metadata": {},
   "outputs": [
    {
     "data": {
      "text/plain": [
       "0.5597899272825209"
      ]
     },
     "execution_count": 103,
     "metadata": {},
     "output_type": "execute_result"
    }
   ],
   "source": [
    " np.max(pd.read_csv(results_fns[0])[\"val_acc\"])\n",
    "    "
   ]
  },
  {
   "cell_type": "code",
   "execution_count": 111,
   "metadata": {},
   "outputs": [
    {
     "name": "stderr",
     "output_type": "stream",
     "text": [
      "C:\\Users\\chris\\Anaconda3\\envs\\audio\\lib\\site-packages\\keras\\utils\\conv_utils.py:82: FutureWarning: Using a non-tuple sequence for multidimensional indexing is deprecated; use `arr[tuple(seq)]` instead of `arr[seq]`. In the future this will be interpreted as an array index, `arr[np.array(seq)]`, which will result either in an error or a different result.\n",
      "  return np.copy(kernel[slices])\n"
     ]
    }
   ],
   "source": [
    "md = keras.models.load_model(\"../data/freesound-ml/nn_{}.model\".format(results_fns[0][:-4]))"
   ]
  },
  {
   "cell_type": "code",
   "execution_count": 118,
   "metadata": {},
   "outputs": [
    {
     "name": "stderr",
     "output_type": "stream",
     "text": [
      "C:\\Users\\chris\\Anaconda3\\envs\\audio\\lib\\site-packages\\keras\\utils\\conv_utils.py:82: FutureWarning: Using a non-tuple sequence for multidimensional indexing is deprecated; use `arr[tuple(seq)]` instead of `arr[seq]`. In the future this will be interpreted as an array index, `arr[np.array(seq)]`, which will result either in an error or a different result.\n",
      "  return np.copy(kernel[slices])\n"
     ]
    },
    {
     "name": "stdout",
     "output_type": "stream",
     "text": [
      "0.11126694717157551\n"
     ]
    },
    {
     "name": "stderr",
     "output_type": "stream",
     "text": [
      "C:\\Users\\chris\\Anaconda3\\envs\\audio\\lib\\site-packages\\scipy\\stats\\stats.py:245: RuntimeWarning: The input array could not be properly checked for nan values. nan values will be ignored.\n",
      "  \"values. nan values will be ignored.\", RuntimeWarning)\n"
     ]
    },
    {
     "data": {
      "text/plain": [
       "0.14780600461893764"
      ]
     },
     "execution_count": 118,
     "metadata": {},
     "output_type": "execute_result"
    }
   ],
   "source": [
    "get_accuracy(results_fns[0][:-4], X_test)"
   ]
  },
  {
   "cell_type": "code",
   "execution_count": 140,
   "metadata": {},
   "outputs": [
    {
     "name": "stdout",
     "output_type": "stream",
     "text": [
      "2d_128_0.3_2.csv\n"
     ]
    },
    {
     "name": "stderr",
     "output_type": "stream",
     "text": [
      "C:\\Users\\chris\\Anaconda3\\envs\\audio\\lib\\site-packages\\keras\\utils\\conv_utils.py:82: FutureWarning: Using a non-tuple sequence for multidimensional indexing is deprecated; use `arr[tuple(seq)]` instead of `arr[seq]`. In the future this will be interpreted as an array index, `arr[np.array(seq)]`, which will result either in an error or a different result.\n",
      "  return np.copy(kernel[slices])\n"
     ]
    },
    {
     "name": "stdout",
     "output_type": "stream",
     "text": [
      "0.11126694717157551\n"
     ]
    },
    {
     "name": "stderr",
     "output_type": "stream",
     "text": [
      "C:\\Users\\chris\\Anaconda3\\envs\\audio\\lib\\site-packages\\scipy\\stats\\stats.py:245: RuntimeWarning: The input array could not be properly checked for nan values. nan values will be ignored.\n",
      "  \"values. nan values will be ignored.\", RuntimeWarning)\n"
     ]
    },
    {
     "name": "stdout",
     "output_type": "stream",
     "text": [
      "2d_32_0.3_2.csv\n",
      "0.09957924263674614\n",
      "2d_32_0.3_3.csv\n",
      "0.060542309490416085\n",
      "2d_32_0.5_2.csv\n",
      "0.12622720897615708\n",
      "2d_32_0.5_3.csv\n",
      "0.08835904628330996\n",
      "2d_64_0.3_2.csv\n",
      "0.12318840579710146\n",
      "2d_64_0.3_3.csv\n",
      "0.08298270219728845\n",
      "2d_64_0.5_2.csv\n",
      "0.11524076671341749\n",
      "2d_64_0.5_3.csv\n",
      "0.08789153810191679\n"
     ]
    }
   ],
   "source": [
    "results = []\n",
    "\n",
    "for fn in results_fns:\n",
    "    print(fn)\n",
    "    model = keras.models.load_model(\"../data/freesound-ml/nn_{}.model\".format(fn[:-4]))\n",
    "    \n",
    "    max_val_acc = np.max(pd.read_csv(fn)[\"val_acc\"])\n",
    "    true_test_acc = get_accuracy(fn[:-4], X_test)\n",
    "    results.append([fn, max_val_acc, true_test_acc])\n",
    "    "
   ]
  },
  {
   "cell_type": "code",
   "execution_count": 152,
   "metadata": {},
   "outputs": [],
   "source": [
    "preds = model.predict(X_test)"
   ]
  },
  {
   "cell_type": "code",
   "execution_count": 153,
   "metadata": {},
   "outputs": [
    {
     "data": {
      "text/plain": [
       "array([0.04211148, 0.00428971, 0.00980724, 0.00968907, 0.01250777,\n",
       "       0.00046169, 0.02469907, 0.00569606, 0.00309948, 0.00942499,\n",
       "       0.01287755, 0.02550157, 0.01554736, 0.00476691, 0.01815393,\n",
       "       0.02779944, 0.00434662, 0.04871554, 0.0166655 , 0.04613115,\n",
       "       0.09142027, 0.0063581 , 0.00752467, 0.02371158, 0.02360239,\n",
       "       0.02868497, 0.01480678, 0.1734222 , 0.00503807, 0.00056279,\n",
       "       0.00380142, 0.01753699, 0.01303129, 0.06722847, 0.0197344 ,\n",
       "       0.00681093, 0.02698777, 0.05781476, 0.04122413, 0.01632254,\n",
       "       0.01208335], dtype=float32)"
      ]
     },
     "execution_count": 153,
     "metadata": {},
     "output_type": "execute_result"
    }
   ],
   "source": [
    "preds[0]"
   ]
  },
  {
   "cell_type": "markdown",
   "metadata": {},
   "source": [
    "### ^ It appears that the trained model is predicting a relatively high probability for MANY classes... "
   ]
  },
  {
   "cell_type": "code",
   "execution_count": 142,
   "metadata": {},
   "outputs": [],
   "source": [
    "results = pd.DataFrame(results)"
   ]
  },
  {
   "cell_type": "code",
   "execution_count": 143,
   "metadata": {},
   "outputs": [],
   "source": [
    "results.columns = [\"fn\", \"best val_acc\", \"true_test_acc\"]"
   ]
  },
  {
   "cell_type": "code",
   "execution_count": 144,
   "metadata": {},
   "outputs": [
    {
     "data": {
      "text/html": [
       "<div>\n",
       "<style scoped>\n",
       "    .dataframe tbody tr th:only-of-type {\n",
       "        vertical-align: middle;\n",
       "    }\n",
       "\n",
       "    .dataframe tbody tr th {\n",
       "        vertical-align: top;\n",
       "    }\n",
       "\n",
       "    .dataframe thead th {\n",
       "        text-align: right;\n",
       "    }\n",
       "</style>\n",
       "<table border=\"1\" class=\"dataframe\">\n",
       "  <thead>\n",
       "    <tr style=\"text-align: right;\">\n",
       "      <th></th>\n",
       "      <th>fn</th>\n",
       "      <th>best val_acc</th>\n",
       "      <th>true_test_acc</th>\n",
       "    </tr>\n",
       "  </thead>\n",
       "  <tbody>\n",
       "    <tr>\n",
       "      <th>0</th>\n",
       "      <td>2d_128_0.3_2.csv</td>\n",
       "      <td>0.559790</td>\n",
       "      <td>0.147806</td>\n",
       "    </tr>\n",
       "    <tr>\n",
       "      <th>1</th>\n",
       "      <td>2d_32_0.3_2.csv</td>\n",
       "      <td>0.546458</td>\n",
       "      <td>0.139338</td>\n",
       "    </tr>\n",
       "    <tr>\n",
       "      <th>2</th>\n",
       "      <td>2d_32_0.3_3.csv</td>\n",
       "      <td>0.508214</td>\n",
       "      <td>0.069284</td>\n",
       "    </tr>\n",
       "    <tr>\n",
       "      <th>3</th>\n",
       "      <td>2d_32_0.5_2.csv</td>\n",
       "      <td>0.542419</td>\n",
       "      <td>0.157044</td>\n",
       "    </tr>\n",
       "    <tr>\n",
       "      <th>4</th>\n",
       "      <td>2d_32_0.5_3.csv</td>\n",
       "      <td>0.460679</td>\n",
       "      <td>0.110085</td>\n",
       "    </tr>\n",
       "  </tbody>\n",
       "</table>\n",
       "</div>"
      ],
      "text/plain": [
       "                 fn  best val_acc  true_test_acc\n",
       "0  2d_128_0.3_2.csv      0.559790       0.147806\n",
       "1   2d_32_0.3_2.csv      0.546458       0.139338\n",
       "2   2d_32_0.3_3.csv      0.508214       0.069284\n",
       "3   2d_32_0.5_2.csv      0.542419       0.157044\n",
       "4   2d_32_0.5_3.csv      0.460679       0.110085"
      ]
     },
     "execution_count": 144,
     "metadata": {},
     "output_type": "execute_result"
    }
   ],
   "source": [
    "results.head()"
   ]
  },
  {
   "cell_type": "markdown",
   "metadata": {},
   "source": [
    "# We see that the stonger CNNs dramatically overfit, despite high dropout rates"
   ]
  },
  {
   "cell_type": "markdown",
   "metadata": {},
   "source": [
    "So, we have our best result, a very small CNN:\n",
    "\n",
    "- n_filters=16\n",
    "- kernel_size=(2,9)\n",
    "- suffix=\"2d_4\"\n",
    "- dropout_rate=0.4\n",
    "- n_conv_layers=2)\n",
    "\n",
    "The biggest single gain in performance was from transitioning to a CNN structure. Next biggest was the use of a rectangular kernel, which allowed the model to find features more quickly."
   ]
  },
  {
   "cell_type": "code",
   "execution_count": 149,
   "metadata": {},
   "outputs": [
    {
     "name": "stderr",
     "output_type": "stream",
     "text": [
      "C:\\Users\\chris\\Anaconda3\\envs\\audio\\lib\\site-packages\\scipy\\stats\\stats.py:245: RuntimeWarning: The input array could not be properly checked for nan values. nan values will be ignored.\n",
      "  \"values. nan values will be ignored.\", RuntimeWarning)\n"
     ]
    },
    {
     "data": {
      "text/plain": [
       "0.5612009237875288"
      ]
     },
     "execution_count": 149,
     "metadata": {},
     "output_type": "execute_result"
    }
   ],
   "source": [
    "get_accuracy(\"2d_4\", X_test)"
   ]
  },
  {
   "cell_type": "code",
   "execution_count": null,
   "metadata": {},
   "outputs": [],
   "source": [
    "print(best_accuracy)"
   ]
  },
  {
   "cell_type": "markdown",
   "metadata": {},
   "source": [
    "# Next steps\n",
    "\n",
    "If I were to continue developing this model, we would like to test the affects of manual feature engineering on the conv layers, i.e. if \"derivative\" style features (as used earlier in the project) are engineered, will the conv layers make good use of them ?\n",
    "\n",
    "Further, I would investigate why the model is overfitting so strongly with the relatively similar networks trained above"
   ]
  }
 ],
 "metadata": {
  "kernelspec": {
   "display_name": "Python 3",
   "language": "python",
   "name": "python3"
  },
  "language_info": {
   "codemirror_mode": {
    "name": "ipython",
    "version": 3
   },
   "file_extension": ".py",
   "mimetype": "text/x-python",
   "name": "python",
   "nbconvert_exporter": "python",
   "pygments_lexer": "ipython3",
   "version": "3.6.6"
  }
 },
 "nbformat": 4,
 "nbformat_minor": 1
}
